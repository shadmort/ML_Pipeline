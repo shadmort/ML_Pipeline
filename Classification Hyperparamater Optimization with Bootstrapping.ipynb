{
 "cells": [
  {
   "cell_type": "code",
   "execution_count": null,
   "metadata": {},
   "outputs": [],
   "source": [
    "import pandas as pd\n",
    "import numpy as np\n",
    "import impyute as impy\n",
    "import math\n",
    "\n",
    "from numpy import mean\n",
    "from numpy import std\n",
    "from sklearn.datasets import make_classification\n",
    "from sklearn.model_selection import KFold\n",
    "from sklearn.utils import resample\n",
    "from sklearn.model_selection import train_test_split,cross_val_score,StratifiedKFold,RandomizedSearchCV\n",
    "from sklearn.metrics import f1_score\n",
    "from sklearn.preprocessing import StandardScaler\n",
    "from sklearn.pipeline import Pipeline\n",
    "from sklearn.decomposition import PCA\n",
    "import sklearn.linear_model\n",
    "from sklearn.cluster import AgglomerativeClustering\n",
    "from sklearn import preprocessing\n",
    "from scipy.cluster.hierarchy import dendrogram, linkage\n",
    "\n",
    "from sklearn.ensemble import RandomForestClassifier\n",
    "from sklearn.linear_model import LogisticRegression\n",
    "from sklearn.tree import DecisionTreeClassifier\n",
    "from sklearn.svm import SVC\n",
    "import xgboost as xgb\n",
    "\n",
    "from scipy import stats\n",
    "import matplotlib.pyplot as plt\n",
    "import shap\n",
    "\n",
    "import os\n",
    "#!pip install tslearn\n",
    "#from tslearn.clustering import KShape\n",
    "#from tslearn.clustering import silhouette_score\n",
    "#tslearn not importing on my machine :(\n",
    "\n",
    "import seaborn as sns"
   ]
  },
  {
   "cell_type": "markdown",
   "metadata": {},
   "source": [
    "According the the CDC, sepsis (an acute response to infection) is a major problem for hospitals as 1 out of 3 patients who are in a hospital die of sepsis. Some of the risk factors for sepsis include people who have been diagnosed with an infection and people who have severe chronic conditions.\n",
    "\n",
    "The purpose of our project is to explore the data’s features (of which there are 303) and determine which machine learning algorithm and pipeline most accurately classifies sepsis outcome and predicts if an incoming patient may have sepsis or may develop sepsis."
   ]
  },
  {
   "cell_type": "code",
   "execution_count": null,
   "metadata": {},
   "outputs": [],
   "source": [
    "# load first df\n",
    "data = pd.read_csv('data')"
   ]
  },
  {
   "cell_type": "code",
   "execution_count": null,
   "metadata": {},
   "outputs": [],
   "source": [
    "data.head()"
   ]
  },
  {
   "cell_type": "code",
   "execution_count": null,
   "metadata": {},
   "outputs": [],
   "source": [
    "data.shape"
   ]
  },
  {
   "cell_type": "code",
   "execution_count": null,
   "metadata": {},
   "outputs": [],
   "source": [
    "# Replace 'None' with NaN\n",
    "data.nan = data.replace('None', np.nan)"
   ]
  },
  {
   "cell_type": "code",
   "execution_count": null,
   "metadata": {},
   "outputs": [],
   "source": [
    "# check for null type\n",
    "obj = data.nan.isnull().sum()\n",
    "for key,value in obj.iteritems():\n",
    "    print(key,\",\",value)"
   ]
  },
  {
   "cell_type": "code",
   "execution_count": null,
   "metadata": {},
   "outputs": [],
   "source": [
    "# Drop columns with >50% missing\n",
    "df = data.nan.loc[:, data.nan.isnull().sum() < 0.5*data.nan.shape[0]]\n",
    "\n",
    "# Drop rows with >50% missing\n",
    "df = df.dropna(axis = 0, thresh = int((0.5*df.shape[1] + 1)))"
   ]
  },
  {
   "cell_type": "code",
   "execution_count": null,
   "metadata": {},
   "outputs": [],
   "source": [
    "df.shape"
   ]
  },
  {
   "cell_type": "code",
   "execution_count": null,
   "metadata": {},
   "outputs": [],
   "source": [
    "# Drop unnecessary columns\n",
    "focus_df = df.drop(['a', 'b', 'c', 'd'], axis = 1)"
   ]
  },
  {
   "cell_type": "code",
   "execution_count": null,
   "metadata": {},
   "outputs": [],
   "source": [
    "# Drop all prior labs\n",
    "focus_df = focus_df.loc[:,~focus_df.columns.str.contains('^prior', case=False)]"
   ]
  },
  {
   "cell_type": "code",
   "execution_count": null,
   "metadata": {},
   "outputs": [],
   "source": [
    "# check for null type\n",
    "obj = focus_df.isnull().sum()\n",
    "for key,value in obj.iteritems():\n",
    "    print(key,\",\",value)"
   ]
  },
  {
   "cell_type": "code",
   "execution_count": null,
   "metadata": {},
   "outputs": [],
   "source": [
    "# change 'object' type to float for imputation\n",
    "focus_df1 = focus_df.astype(float, errors = 'raise')\n",
    "\n",
    "# convert to array for imputation\n",
    "y = focus_df1.values\n",
    "data = impy.mode(y)\n",
    "\n",
    "# convert back to dataframe\n",
    "data = pd.DataFrame(data, columns = focus_df.columns.values.tolist())\n"
   ]
  },
  {
   "cell_type": "code",
   "execution_count": null,
   "metadata": {},
   "outputs": [],
   "source": [
    "data.describe()"
   ]
  },
  {
   "cell_type": "code",
   "execution_count": null,
   "metadata": {},
   "outputs": [],
   "source": [
    "# isolate vital signs data\n",
    "signs_data = data.iloc[:, [36,37,38,39,40,41,42,43,44,45,46,47,48,49,50,51,52,53]]"
   ]
  },
  {
   "cell_type": "code",
   "execution_count": null,
   "metadata": {},
   "outputs": [],
   "source": [
    "signs_data.describe()"
   ]
  },
  {
   "cell_type": "code",
   "execution_count": null,
   "metadata": {},
   "outputs": [],
   "source": [
    "# isolate prior conditions data\n",
    "condition_data = data.iloc[:, [4,5,6,7,8,9,10,11,12,13,14,15,16,17,18,19,20,21,22,23,24,25,26,27,\n",
    "                                28,29,30,31,32,33,62]]"
   ]
  },
  {
   "cell_type": "code",
   "execution_count": null,
   "metadata": {},
   "outputs": [],
   "source": [
    "condition_data.describe()"
   ]
  },
  {
   "cell_type": "code",
   "execution_count": null,
   "metadata": {},
   "outputs": [],
   "source": [
    "condition_data = condition_data.astype('int64')"
   ]
  },
  {
   "cell_type": "code",
   "execution_count": null,
   "metadata": {},
   "outputs": [],
   "source": [
    "# separate features and target\n",
    "X = condition_data.drop(['label'], axis = 1)\n",
    "X2 = signs_data\n",
    "y = condition_data['label']"
   ]
  },
  {
   "cell_type": "code",
   "execution_count": null,
   "metadata": {},
   "outputs": [],
   "source": [
    "# check for imbalanced data\n",
    "y.value_counts()"
   ]
  },
  {
   "cell_type": "code",
   "execution_count": null,
   "metadata": {},
   "outputs": [],
   "source": [
    "# Dendrogram of conditions\n",
    "condition_clust = X.head(100)\n",
    "\n",
    "linkage_matrix = linkage(condition_clust, 'ward')\n",
    "figure = plt.figure(figsize=(7.5, 5))\n",
    "dendrogram(\n",
    "    linkage_matrix,\n",
    "    color_threshold=0,\n",
    ")\n",
    "plt.title('Hierarchical Clustering Dendrogram Conditions')\n",
    "plt.ylabel('distance')\n",
    "plt.tight_layout()\n",
    "plt.show()"
   ]
  },
  {
   "cell_type": "code",
   "execution_count": null,
   "metadata": {},
   "outputs": [],
   "source": [
    "# Dendrogram of signs\n",
    "signs_clust = X2.head(100)\n",
    "\n",
    "linkage_matrix = linkage(signs_clust, 'ward')\n",
    "figure = plt.figure(figsize=(7.5, 5))\n",
    "dendrogram(\n",
    "    linkage_matrix,\n",
    "    color_threshold=0,\n",
    ")\n",
    "plt.title('Hierarchical Clustering Dendrogram Signs')\n",
    "plt.ylabel('distance')\n",
    "plt.tight_layout()\n",
    "plt.show()"
   ]
  },
  {
   "cell_type": "code",
   "execution_count": null,
   "metadata": {},
   "outputs": [],
   "source": [
    "# KShape clustering for exploratory data analysis\n",
    "seed = np.random.seed(0)\n",
    "sz = X.shape[0]\n",
    "\n",
    "ks = KShape(n_clusters=3, verbose=True, random_state=seed)\n",
    "ks_y_pred = ks.fit_predict(X)\n",
    "print(silhouette_score(X, ks_y_pred))\n",
    "\n",
    "# Plot the results\n",
    "plt.figure(figsize=(10.0, 10.0))\n",
    "for yi in range(3):\n",
    "    plt.subplot(3, 1, 1 + yi)\n",
    "    for xx in data[ks_y_pred == yi]:\n",
    "        plt.plot(xx.ravel(), \"k-\", alpha=0.2)\n",
    "    plt.plot(ks.cluster_centers_[yi].ravel(), \"r-\")\n",
    "    plt.xlim(0, sz)\n",
    "    plt.ylim(-4, 4)\n",
    "    plt.title(\"Cluster %d\" % (yi + 1))\n",
    "\n",
    "plt.tight_layout()\n",
    "plt.show()\n",
    "\n",
    "ks = KShape(n_clusters=3, verbose=True, random_state=seed)\n",
    "ks_y_pred = ks.fit_predict(X2)\n",
    "print(silhouette_score(X2, ks_y_pred))\n",
    "\n",
    "# Plot the results\n",
    "plt.figure(figsize=(10.0, 10.0))\n",
    "for yi in range(3):\n",
    "    plt.subplot(3, 1, 1 + yi)\n",
    "    for xx in data[ks_y_pred == yi]:\n",
    "        plt.plot(xx.ravel(), \"k-\", alpha=0.2)\n",
    "    plt.plot(ks.cluster_centers_[yi].ravel(), \"r-\")\n",
    "    plt.xlim(0, sz)\n",
    "    plt.ylim(-4, 4)\n",
    "    plt.title(\"Cluster %d\" % (yi + 1))\n",
    "\n",
    "plt.tight_layout()\n",
    "plt.show()"
   ]
  },
  {
   "attachments": {
    "Capture2.PNG": {
     "image/png": "[encoded data removed]"
    }
   },
   "cell_type": "markdown",
   "metadata": {},
   "source": [
    "![Capture2.PNG](attachment:Capture2.PNG)"
   ]
  },
  {
   "cell_type": "markdown",
   "metadata": {},
   "source": [
    "### Hypothesis: Based off of intial data exploration, conditions will be the best subset of data for prediction.\n",
    "\n",
    "This approach would fit better into clinician workflow as past conditions could be scraped from the EHR. When a patient presents to the ICU with deterioration and is prone to sepsis based on past conditions (even when no vitals have been taken), a clinician could be alerted to record signs early and often to ensure sepsis does not occur."
   ]
  },
  {
   "cell_type": "code",
   "execution_count": null,
   "metadata": {},
   "outputs": [],
   "source": [
    "# Initialization\n",
    "scalor=StandardScaler()\n",
    "cv_outer = StratifiedKFold(n_splits=9, shuffle=True, random_state=1)\n",
    "cv_inner = StratifiedKFold(n_splits=5, shuffle=True, random_state=2)"
   ]
  },
  {
   "cell_type": "code",
   "execution_count": null,
   "metadata": {},
   "outputs": [],
   "source": [
    "# Random Forrest Classifier\n",
    "\n",
    "model_rf=RandomForestClassifier(random_state=1)\n",
    "rf_pipeline = Pipeline([ \n",
    "    ('pca', PCA()), \n",
    "    ('model_rf',model_rf)\n",
    "])\n",
    "rf_param = {\n",
    "               'model_rf__bootstrap': [True, False],\n",
    "               'model_rf__max_depth': [2, 3, 5,7,9],\n",
    "               'model_rf__max_features': ['log2', 'sqrt'],\n",
    "               'model_rf__n_estimators': [10, 100, 500]}\n",
    "\n",
    "rf_random = RandomizedSearchCV(rf_pipeline, rf_param, cv=cv_inner, scoring='f1')"
   ]
  },
  {
   "cell_type": "code",
   "execution_count": null,
   "metadata": {},
   "outputs": [],
   "source": [
    "# XGBoost Classifier\n",
    "\n",
    "model_xgb = xgb.XGBClassifier(random_state=1,objective='binary:logistic',eval_metric='logloss',use_label_encoder=False)\n",
    "xgb_pipeline = Pipeline([\n",
    "    ('pca', PCA()), \n",
    "    ('model_xgb', model_xgb)\n",
    "])\n",
    "\n",
    "xgb_param= {\n",
    "    'model_xgb__max_depth': [2, 3, 5,7,9],\n",
    "    'model_xgb__n_estimators': [10, 100, 500]}\n",
    "xgb_random = RandomizedSearchCV(xgb_pipeline, xgb_param, cv=cv_inner, scoring='f1')"
   ]
  },
  {
   "cell_type": "code",
   "execution_count": null,
   "metadata": {},
   "outputs": [],
   "source": [
    "# Logisitic Regression Classifier\n",
    "\n",
    "model_log=LogisticRegression()\n",
    "log_pipeline = Pipeline([ \n",
    "    ('pca', PCA()), \n",
    "    ('model_log',model_log)\n",
    "])\n",
    "log_param = {\n",
    "               'model_log__max_iter': [50, 100, 500],\n",
    "               'model_log__solver': ['liblinear'],\n",
    "               'model_log__C': [0.1, 0.5, 1.0, 5, 10]}\n",
    "\n",
    "log_random = RandomizedSearchCV(log_pipeline, log_param, cv=cv_inner, scoring='f1', random_state = 1)"
   ]
  },
  {
   "cell_type": "code",
   "execution_count": null,
   "metadata": {},
   "outputs": [],
   "source": [
    "# Building Decision Tree model\n",
    "\n",
    "model_dt=DecisionTreeClassifier()\n",
    "dt_pipeline = Pipeline([ \n",
    "    ('pca', PCA()), \n",
    "    ('model_dt',model_dt)\n",
    "])\n",
    "dt_param = {\n",
    "               'model_dt__max_depth': [None, 5, 10 , 50, 100],\n",
    "               'model_dt__criterion': ['gini', 'entropy'],\n",
    "               'model_dt__min_samples_split': [2, 4, 6, 8, 10]}\n",
    "\n",
    "dt_random = RandomizedSearchCV(dt_pipeline, dt_param, cv=cv_inner, scoring='f1', random_state = 1)"
   ]
  },
  {
   "cell_type": "code",
   "execution_count": null,
   "metadata": {},
   "outputs": [],
   "source": [
    "# Building SVC model\n",
    "\n",
    "model_svm=SVC()\n",
    "svm_pipeline = Pipeline([ \n",
    "    ('pca', PCA()), \n",
    "    ('model_svm',model_svm)\n",
    "])\n",
    "svm_param = {\n",
    "               'model_svm__C': [0.1, 0.5, 1.0, 5, 10],\n",
    "               'model_svm__kernel': ['linear'],\n",
    "               'model_svm__gamma': [1, 0.1, 0.01, 0.001, 0.0001]}\n",
    "\n",
    "svm_random = RandomizedSearchCV(svm_pipeline, svm_param, cv=cv_inner, scoring='f1', random_state = 1)"
   ]
  },
  {
   "cell_type": "code",
   "execution_count": null,
   "metadata": {},
   "outputs": [],
   "source": [
    "# Bootstrapping for signs\n",
    "\n",
    "Boot_splits2=[]\n",
    "for i in range(0,10):\n",
    "    Index=range(0,len(X2))\n",
    "    X2_inbag, Y2_inbag = resample(X2, y, replace=True, n_samples=len(Index), random_state=i)\n",
    "\n",
    "    #find the row index that is not in the in bag to put in out bag\n",
    "    out_index = [y for y in X2.index if y not in X2_inbag.index]\n",
    "\n",
    "    X2_outbag = X2.iloc[out_index]\n",
    "    Y2_outbag = y.iloc[out_index]\n",
    "\n",
    "    #add them all to one list\n",
    "    Boot_splits2.append([X2_inbag, Y2_inbag, X2_outbag, Y2_outbag])"
   ]
  },
  {
   "cell_type": "code",
   "execution_count": null,
   "metadata": {},
   "outputs": [],
   "source": [
    "# Running the models using RandomizedSearchCV with Bootstrapping for observations\n",
    "\n",
    "rf_outer_results = list()\n",
    "rf_best_f1_score=float('-inf')\n",
    "rf_best_parameters={}\n",
    "\n",
    "xgb_outer_results = list()\n",
    "xgb_best_f1_score = float('-inf')\n",
    "xgb_best_parameters = {}\n",
    "\n",
    "log_outer_results = list()\n",
    "log_best_f1_score=float('-inf')\n",
    "log_best_parameters={}\n",
    "\n",
    "dt_outer_results = list()\n",
    "dt_best_f1_score=float('-inf')\n",
    "dt_best_parameters={}\n",
    "\n",
    "#svm_outer_results = list()\n",
    "#svm_best_f1_score=float('-inf')\n",
    "#svm_best_parameters={}\n",
    "\n",
    "for i in range(len(Boot_splits2)):\n",
    "    print('Iteration --> '+str(i))\n",
    "    \n",
    "    #Scaling numeric features\n",
    "    scalor.fit(Boot_splits2[i][0])\n",
    "    X_train=scalor.transform(Boot_splits2[i][0])\n",
    "    X_test=scalor.transform(Boot_splits2[i][2])\n",
    "    \n",
    "    #Random Forrest\n",
    "    search = rf_random\n",
    "    result = search.fit(Boot_splits2[i][0], Boot_splits2[i][1].values.ravel())\n",
    "    best_model = result.best_estimator_\n",
    "    yhat = best_model.predict(Boot_splits2[i][2])\n",
    "    f1score = f1_score(Boot_splits2[i][3],yhat)\n",
    "    if f1score >= rf_best_f1_score:\n",
    "        rf_best_f1_score=f1score\n",
    "        rf_best_parameters=result.best_params_\n",
    "    rf_outer_results.append(f1score)\n",
    "    print('Random Forrest inner test: est=%.3f, cfg=%s' % (result.best_score_, result.best_params_))\n",
    "    \n",
    "    #XGBoost\n",
    "    search = xgb_random\n",
    "    result = search.fit(Boot_splits2[i][0], Boot_splits2[i][1].values.ravel())\n",
    "    best_model = result.best_estimator_\n",
    "    yhat = best_model.predict(Boot_splits2[i][2])\n",
    "    f1score = f1_score(Boot_splits2[i][3],yhat)\n",
    "    if f1score >= xgb_best_f1_score:\n",
    "        xgb_best_f1_score=f1score\n",
    "        xgb_best_parameters=result.best_params_\n",
    "    xgb_outer_results.append(f1score)\n",
    "    print('XGBoost inner test: est=%.3f, cfg=%s' % (result.best_score_, result.best_params_))    \n",
    "\n",
    "    #Logistic Regression\n",
    "    search = log_random\n",
    "    result = search.fit(Boot_splits2[i][0], Boot_splits2[i][1].values.ravel())\n",
    "    best_model = result.best_estimator_\n",
    "    yhat = best_model.predict(Boot_splits2[i][2])\n",
    "    f1score = f1_score(Boot_splits2[i][3],yhat)\n",
    "    if f1score >= log_best_f1_score:\n",
    "        log_best_f1_score=f1score\n",
    "        log_best_parameters=result.best_params_\n",
    "    log_outer_results.append(f1score)\n",
    "    print('Logistic Regression inner test: est=%.3f, cfg=%s' % (result.best_score_, result.best_params_))\n",
    "    \n",
    "    #Decision Tree\n",
    "    search = dt_random\n",
    "    result = search.fit(Boot_splits2[i][0], Boot_splits2[i][1].values.ravel())\n",
    "    best_model = result.best_estimator_\n",
    "    yhat = best_model.predict(Boot_splits2[i][2])\n",
    "    f1score = f1_score(Boot_splits2[i][3],yhat)\n",
    "    if f1score >= dt_best_f1_score:\n",
    "        dt_best_f1_score=f1score\n",
    "        dt_best_parameters=result.best_params_\n",
    "    dt_outer_results.append(f1score)\n",
    "    print('Decision Tree inner test: est=%.3f, cfg=%s' % (result.best_score_, result.best_params_))   \n",
    "    \n",
    "\n",
    "# summarize the estimated performance of the model\n",
    "rf_mean2=np.mean(rf_outer_results)\n",
    "xgb_mean2=np.mean(xgb_outer_results)\n",
    "log_mean2=np.mean(log_outer_results)\n",
    "dt_mean2=np.mean(dt_outer_results)\n",
    "\n",
    "print('Random Forrest outer test: f1-score mean: %.3f (std: %.3f)' % (rf_mean2, np.std(rf_outer_results)))\n",
    "print('XGBoost outer test: f1-score mean: %.3f (std: %.3f)' % (xgb_mean2, np.std(xgb_outer_results)))\n",
    "print('Logistic Regression outer test: f1-score mean: %.3f (std: %.3f)' % (log_mean2, np.std(log_outer_results)))\n",
    "print('Decision Tree outer test: f1-score mean: %.3f (std: %.3f)' % (dt_mean2, np.std(dt_outer_results)))"
   ]
  },
  {
   "cell_type": "code",
   "execution_count": null,
   "metadata": {},
   "outputs": [],
   "source": [
    "# Bootstrapping for conditions\n",
    "\n",
    "Boot_splits=[]\n",
    "for i in range(0,10):\n",
    "    Index=range(0,len(X))\n",
    "    X_inbag, Y_inbag = resample(X, y, replace=True, n_samples=len(Index), random_state=i)\n",
    "\n",
    "    #find the row index that is not in the in bag to put in out bag\n",
    "    out_index = [y for y in X.index if y not in X_inbag.index]\n",
    "\n",
    "    X_outbag = X.iloc[out_index]\n",
    "    Y_outbag = y.iloc[out_index]\n",
    "\n",
    "    #add them all to one list\n",
    "    Boot_splits.append([X_inbag, Y_inbag, X_outbag, Y_outbag])"
   ]
  },
  {
   "cell_type": "code",
   "execution_count": null,
   "metadata": {},
   "outputs": [],
   "source": [
    "# Running the models using RandomizedSearchCV with Bootstrapping for conditions\n",
    "\n",
    "rf_outer_results = list()\n",
    "rf_best_f1_score=float('-inf')\n",
    "rf_best_parameters={}\n",
    "\n",
    "xgb_outer_results = list()\n",
    "xgb_best_f1_score = float('-inf')\n",
    "xgb_best_parameters = {}\n",
    "\n",
    "log_outer_results = list()\n",
    "log_best_f1_score=float('-inf')\n",
    "log_best_parameters={}\n",
    "\n",
    "dt_outer_results = list()\n",
    "dt_best_f1_score=float('-inf')\n",
    "dt_best_parameters={}\n",
    "\n",
    "#svm_outer_results = list()\n",
    "#svm_best_f1_score=float('-inf')\n",
    "#svm_best_parameters={}\n",
    "\n",
    "for i in range(len(Boot_splits)):\n",
    "    print('Iteration --> '+str(i))\n",
    "    \n",
    "    #Random Forrest\n",
    "    search = rf_random\n",
    "    result = search.fit(Boot_splits[i][0], Boot_splits[i][1].values.ravel())\n",
    "    best_model = result.best_estimator_\n",
    "    yhat = best_model.predict(Boot_splits[i][2])\n",
    "    f1score = f1_score(Boot_splits[i][3],yhat)\n",
    "    if f1score >= rf_best_f1_score:\n",
    "        rf_best_f1_score=f1score\n",
    "        rf_best_parameters=result.best_params_\n",
    "    rf_outer_results.append(f1score)\n",
    "    print('Random Forrest inner test: est=%.3f, cfg=%s' % (result.best_score_, result.best_params_))\n",
    "    \n",
    "    #XGBoost\n",
    "    search = xgb_random\n",
    "    result = search.fit(Boot_splits[i][0], Boot_splits[i][1].values.ravel())\n",
    "    best_model = result.best_estimator_\n",
    "    yhat = best_model.predict(Boot_splits[i][2])\n",
    "    f1score = f1_score(Boot_splits[i][3],yhat)\n",
    "    if f1score >= xgb_best_f1_score:\n",
    "        xgb_best_f1_score=f1score\n",
    "        xgb_best_parameters=result.best_params_\n",
    "    xgb_outer_results.append(f1score)\n",
    "    print('XGBoost inner test: est=%.3f, cfg=%s' % (result.best_score_, result.best_params_))    \n",
    "\n",
    "    #Logistic Regression\n",
    "    search = log_random\n",
    "    result = search.fit(Boot_splits[i][0], Boot_splits[i][1].values.ravel())\n",
    "    best_model = result.best_estimator_\n",
    "    yhat = best_model.predict(Boot_splits[i][2])\n",
    "    f1score = f1_score(Boot_splits[i][3],yhat)\n",
    "    if f1score >= log_best_f1_score:\n",
    "        log_best_f1_score=f1score\n",
    "        log_best_parameters=result.best_params_\n",
    "    log_outer_results.append(f1score)\n",
    "    print('Logistic Regression inner test: est=%.3f, cfg=%s' % (result.best_score_, result.best_params_))\n",
    "    \n",
    "    #Decision Tree\n",
    "    search = dt_random\n",
    "    result = search.fit(Boot_splits[i][0], Boot_splits[i][1].values.ravel())\n",
    "    best_model = result.best_estimator_\n",
    "    yhat = best_model.predict(Boot_splits[i][2])\n",
    "    f1score = f1_score(Boot_splits[i][3],yhat)\n",
    "    if f1score >= dt_best_f1_score:\n",
    "        dt_best_f1_score=f1score\n",
    "        dt_best_parameters=result.best_params_\n",
    "    dt_outer_results.append(f1score)\n",
    "    print('Decision Tree inner test: est=%.3f, cfg=%s' % (result.best_score_, result.best_params_))   \n",
    "    \n",
    "\n",
    "# summarize the estimated performance of the model\n",
    "rf_mean=np.mean(rf_outer_results)\n",
    "xgb_mean=np.mean(xgb_outer_results)\n",
    "log_mean=np.mean(log_outer_results)\n",
    "dt_mean=np.mean(dt_outer_results)\n",
    "\n",
    "print('Random Forrest outer test: f1-score mean: %.3f (std: %.3f)' % (rf_mean, np.std(rf_outer_results)))\n",
    "print('XGBoost outer test: f1-score mean: %.3f (std: %.3f)' % (xgb_mean, np.std(xgb_outer_results)))\n",
    "print('Logistic Regression outer test: f1-score mean: %.3f (std: %.3f)' % (log_mean, np.std(log_outer_results)))\n",
    "print('Decision Tree outer test: f1-score mean: %.3f (std: %.3f)' % (dt_mean, np.std(dt_outer_results)))"
   ]
  },
  {
   "cell_type": "code",
   "execution_count": null,
   "metadata": {},
   "outputs": [],
   "source": [
    "# summarize the estimated performance of the model\n",
    "rf_mean=np.mean(rf_outer_results)\n",
    "xgb_mean=np.mean(xgb_outer_results)\n",
    "log_mean=np.mean(log_outer_results)\n",
    "dt_mean=np.mean(dt_outer_results)\n",
    "\n",
    "print('Random Forrest outer test: f1-score mean: %.3f (std: %.3f)' % (rf_mean, np.std(rf_outer_results)))\n",
    "print('XGBoost outer test: f1-score mean: %.3f (std: %.3f)' % (xgb_mean, np.std(xgb_outer_results)))\n",
    "print('Logistic Regression outer test: f1-score mean: %.3f (std: %.3f)' % (log_mean, np.std(log_outer_results)))\n",
    "print('Decision Tree outer test: f1-score mean: %.3f (std: %.3f)' % (dt_mean, np.std(dt_outer_results)))"
   ]
  },
  {
   "cell_type": "code",
   "execution_count": null,
   "metadata": {},
   "outputs": [],
   "source": [
    "# Plot logistic regression for a feature\n",
    "\n",
    "sns.regplot(x=X['hypertension'], y=y, data=X, logistic=True)\n",
    "sns.regplot(x=X['hypertension'], y=y, data=X2, logistic=True)"
   ]
  },
  {
   "cell_type": "code",
   "execution_count": null,
   "metadata": {},
   "outputs": [],
   "source": [
    "# T-test for significance\n",
    "\n",
    "signs_f1 = (0.041, 0.129, 0.035, 0.193)\n",
    "condition_f1 = (0.095, 0.252, 0.129, 0.275)\n",
    "\n",
    "stats.ttest_ind(signs_f1, condition_f1)"
   ]
  },
  {
   "cell_type": "markdown",
   "metadata": {},
   "source": [
    "Because p> 0.05, we cannot reject the null hypothesis, but conditions still perform better and make sense in the workflow."
   ]
  },
  {
   "cell_type": "code",
   "execution_count": null,
   "metadata": {},
   "outputs": [],
   "source": [
    "# Find the best model for condition\n",
    "\n",
    "if (dt_mean and xgb_mean and dt_mean  <= log_mean):\n",
    "    myFinalModel=model_log\n",
    "    defaulttParm=model_log.get_params()\n",
    "    for k in log_best_parameters.keys():\n",
    "        if 'model_log' in k:\n",
    "            parm=k.split('__')[1]\n",
    "            defaulttParm[parm]=log_best_parameters[k]\n",
    "    myFinalModel=LogisticRegression(**defaulttParm)\n",
    "        \n",
    "elif (xgb_mean and dt_mean and log_mean <= dt_mean):\n",
    "    myFinalModel=model_dt\n",
    "    defaulttParm=model_dt.get_params()\n",
    "    for k in dt_best_parameters.keys():\n",
    "        if 'model_dt' in k:\n",
    "            parm=k.split('__')[1]\n",
    "            defaulttParm[parm]=dt_best_parameters[k]\n",
    "    myFinalModel=DecisionTreeClassifier(**defaulttParm)    \n",
    "\n",
    "elif (dt_mean and log_mean and dt_mean <= xgb_mean):\n",
    "    myFinalModel=model_xgb\n",
    "    defaulttParm=model_xgb.get_params()\n",
    "    for k in xgb_best_parameters.keys():\n",
    "        if 'model_xgb' in k:\n",
    "            parm=k.split('__')[1]\n",
    "            defaulttParm[parm]=xgb_best_parameters[k]\n",
    "    myFinalModel=xgb.XGBClassifier(**defaulttParm)     \n",
    "    \n",
    "else: \n",
    "    defaulttParm=model_dt.get_rf_params()\n",
    "    for k in rf_best_parameters.keys():\n",
    "        if 'model_rf' in k:\n",
    "            parm=k.split('__')[1]\n",
    "            defaulttParm[parm]=rf_best_parameters[k]\n",
    "    defaulttParm['use_label_encoder']=False\n",
    "    myFinalModel=RandomForestClassifier(**defaulttParm)"
   ]
  },
  {
   "cell_type": "code",
   "execution_count": null,
   "metadata": {},
   "outputs": [],
   "source": [
    "print( myFinalModel)"
   ]
  },
  {
   "cell_type": "code",
   "execution_count": null,
   "metadata": {},
   "outputs": [],
   "source": [
    "x_scaled=scalor.fit_transform(X)"
   ]
  },
  {
   "cell_type": "code",
   "execution_count": null,
   "metadata": {},
   "outputs": [],
   "source": [
    "#Just best model\n",
    "print(cross_val_score(myFinalModel,x_scaled, y,cv=9))"
   ]
  },
  {
   "cell_type": "code",
   "execution_count": null,
   "metadata": {},
   "outputs": [],
   "source": [
    "# Perfrom Friedman's Teast\n",
    "stats.friedmanchisquare(xgb_outer_results, log_outer_results, dt_outer_results, rf_outer_results)"
   ]
  },
  {
   "cell_type": "markdown",
   "metadata": {},
   "source": [
    "p< 0.05 so Decision Tree performs the best statistically. "
   ]
  },
  {
   "cell_type": "code",
   "execution_count": null,
   "metadata": {},
   "outputs": [],
   "source": [
    "#SHAP with the best model without PCA\n",
    "\n",
    "X_train, X_test, y_train, y_test = train_test_split(X.head(50), y.head(50), test_size=0.1, random_state=1)\n",
    "myFinalModel.fit(X_train,y_train)\n",
    "yhat=myFinalModel.predict(X_test)\n",
    "f1score=f1_score(yhat,y_test)\n",
    "print(f1score)"
   ]
  },
  {
   "cell_type": "code",
   "execution_count": null,
   "metadata": {},
   "outputs": [],
   "source": [
    "# SHAP analysis for '0' label\n",
    "\n",
    "shap.initjs()\n",
    "#data = shap.sample(X_test, 100)\n",
    "explainer = shap.KernelExplainer(myFinalModel.predict_proba, X_test)\n",
    "shap_values = explainer.shap_values(X_test)\n",
    "shap.force_plot(explainer.expected_value[0], shap_values[0], X_test)\n"
   ]
  },
  {
   "cell_type": "code",
   "execution_count": null,
   "metadata": {},
   "outputs": [],
   "source": [
    "# SHAP analysis for '1' label\n",
    "\n",
    "shap.initjs()\n",
    "#data = shap.sample(X_test, 100)\n",
    "explainer = shap.KernelExplainer(myFinalModel.predict_proba, X_test)\n",
    "shap_values = explainer.shap_values(X_test)\n",
    "shap.force_plot(explainer.expected_value[1], shap_values[1], X_test)"
   ]
  },
  {
   "cell_type": "code",
   "execution_count": null,
   "metadata": {},
   "outputs": [],
   "source": []
  }
 ],
 "metadata": {
  "kernelspec": {
   "display_name": "Python 3",
   "language": "python",
   "name": "python3"
  },
  "language_info": {
   "codemirror_mode": {
    "name": "ipython",
    "version": 3
   },
   "file_extension": ".py",
   "mimetype": "text/x-python",
   "name": "python",
   "nbconvert_exporter": "python",
   "pygments_lexer": "ipython3",
   "version": "3.8.3"
  }
 },
 "nbformat": 4,
 "nbformat_minor": 4
}
